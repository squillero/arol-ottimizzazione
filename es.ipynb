{
 "cells": [
  {
   "cell_type": "markdown",
   "metadata": {},
   "source": [
    "> Copyright 2025 Giovanni Squillero <<giovanni.squillero@polito.it>>  \n",
    "> SPDX-License-Identifier: `0BSD`"
   ]
  },
  {
   "cell_type": "code",
   "execution_count": 1,
   "metadata": {},
   "outputs": [],
   "source": [
    "from itertools import accumulate\n",
    "import numpy as np\n",
    "from tqdm.auto import tqdm\n",
    "from matplotlib import pyplot as plt"
   ]
  },
  {
   "cell_type": "code",
   "execution_count": 2,
   "metadata": {},
   "outputs": [],
   "source": [
    "PROBLEM_SIZE = 5"
   ]
  },
  {
   "cell_type": "code",
   "execution_count": 3,
   "metadata": {},
   "outputs": [],
   "source": [
    "def augmented(func):\n",
    "    class _Augmnented:\n",
    "        _log: list\n",
    "\n",
    "        def __init__(self):\n",
    "            self.clear()\n",
    "\n",
    "        @property\n",
    "        def log(self):\n",
    "            return self._log[:]\n",
    "\n",
    "        def clear(self):\n",
    "            self._log = list()\n",
    "\n",
    "        def plot(self, figsize=(14, 8)):\n",
    "            best = list(accumulate(self._log, max))\n",
    "            improvements = [(i, v) for i, v in list(enumerate(best)) if v > best[i - 1]]\n",
    "            plt.figure(figsize=figsize)\n",
    "            plt.scatter(range(len(self._log)), self._log, marker='.', color='lavender')\n",
    "            plt.plot(range(len(best)), best, color='lightcoral')\n",
    "            plt.scatter(\n",
    "                [i for i, v in improvements],\n",
    "                [v for i, v in improvements],\n",
    "                marker='*',\n",
    "                color='red',\n",
    "            )\n",
    "\n",
    "        def __call__(self, *args, **kwargs):\n",
    "            self._log.append(func(*args, **kwargs))\n",
    "            return self.log[-1]\n",
    "\n",
    "    return _Augmnented()"
   ]
  },
  {
   "cell_type": "code",
   "execution_count": 4,
   "metadata": {},
   "outputs": [],
   "source": [
    "@augmented\n",
    "def fitness(sol):\n",
    "    return -np.sum(np.square(sol))"
   ]
  },
  {
   "cell_type": "code",
   "execution_count": 5,
   "metadata": {},
   "outputs": [],
   "source": [
    "def tweak(sol, stddev=0.1):\n",
    "    return sol + np.random.normal(loc=0, scale=stddev, size=sol.size)"
   ]
  },
  {
   "cell_type": "code",
   "execution_count": null,
   "metadata": {},
   "outputs": [],
   "source": [
    "sol = np.random.rand(PROBLEM_SIZE) * 2 - 1\n",
    "for _ in range(100):\n",
    "    fitness(tweak(sol))"
   ]
  },
  {
   "cell_type": "code",
   "execution_count": null,
   "metadata": {},
   "outputs": [],
   "source": [
    "fitness.plot()"
   ]
  },
  {
   "cell_type": "code",
   "execution_count": null,
   "metadata": {},
   "outputs": [],
   "source": []
  }
 ],
 "metadata": {
  "kernelspec": {
   "display_name": "arol-opt-cJmkrnby-py3.13",
   "language": "python",
   "name": "python3"
  },
  "language_info": {
   "codemirror_mode": {
    "name": "ipython",
    "version": 3
   },
   "file_extension": ".py",
   "mimetype": "text/x-python",
   "name": "python",
   "nbconvert_exporter": "python",
   "pygments_lexer": "ipython3",
   "version": "3.13.2"
  }
 },
 "nbformat": 4,
 "nbformat_minor": 2
}
