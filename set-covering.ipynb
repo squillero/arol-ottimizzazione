{
 "cells": [
  {
   "cell_type": "markdown",
   "metadata": {},
   "source": [
    "> Copyright 2025 Giovanni Squillero <<giovanni.squillero@polito.it>>  \n",
    "> SPDX-License-Identifier: `0BSD`"
   ]
  },
  {
   "cell_type": "code",
   "execution_count": null,
   "metadata": {},
   "outputs": [],
   "source": [
    "import numpy as np"
   ]
  },
  {
   "cell_type": "markdown",
   "metadata": {},
   "source": [
    "# Set Covering\n",
    "\n",
    "See [https://en.wikipedia.org/wiki/Set_cover_problem](https://en.wikipedia.org/wiki/Set_cover_problem)"
   ]
  },
  {
   "cell_type": "code",
   "execution_count": 2,
   "metadata": {},
   "outputs": [],
   "source": [
    "SEED = 42\n",
    "np.random.seed(SEED)"
   ]
  },
  {
   "cell_type": "code",
   "execution_count": null,
   "metadata": {},
   "outputs": [],
   "source": [
    "NUM_SETS = 200\n",
    "NUM_AREAS = 20\n",
    "SETS = np.random.random((NUM_SETS, NUM_AREAS)) < 0.5\n",
    "COSTS = np.random.randint(1, 10_000 + 1, size=(NUM_SETS))\n",
    "\n",
    "\n",
    "def solution_cost(solution):\n",
    "    return np.sum(COSTS[solution])\n",
    "\n",
    "\n",
    "def is_valid(solution):\n",
    "    return np.all(np.any(SETS[solution], axis=0))"
   ]
  }
 ],
 "metadata": {
  "kernelspec": {
   "display_name": "arol-opt-cJmkrnby-py3.13",
   "language": "python",
   "name": "python3"
  },
  "language_info": {
   "codemirror_mode": {
    "name": "ipython",
    "version": 3
   },
   "file_extension": ".py",
   "mimetype": "text/x-python",
   "name": "python",
   "nbconvert_exporter": "python",
   "pygments_lexer": "ipython3",
   "version": "3.13.2"
  },
  "orig_nbformat": 4
 },
 "nbformat": 4,
 "nbformat_minor": 2
}
