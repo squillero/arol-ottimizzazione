{
 "cells": [
  {
   "cell_type": "markdown",
   "metadata": {},
   "source": [
    "> Copyright 2025 Giovanni Squillero <<giovanni.squillero@polito.it>>  \n",
    "> SPDX-License-Identifier: `0BSD`"
   ]
  },
  {
   "cell_type": "code",
   "execution_count": 1,
   "metadata": {},
   "outputs": [],
   "source": [
    "from itertools import accumulate\n",
    "from icecream import ic\n",
    "import numpy as np\n",
    "from tqdm.auto import tqdm\n",
    "from matplotlib import pyplot as plt\n",
    "from random import choice, randint, random\n",
    "import seaborn as sns"
   ]
  },
  {
   "cell_type": "markdown",
   "metadata": {},
   "source": [
    "# 0-1 Multiple Knapsack Problem\n",
    "\n",
    "see: [https://en.wikipedia.org/wiki/Knapsack_problem](https://en.wikipedia.org/wiki/Knapsack_problem)"
   ]
  },
  {
   "cell_type": "code",
   "execution_count": 2,
   "metadata": {},
   "outputs": [],
   "source": [
    "RANDOM_SEED = 42\n",
    "np.random.seed(RANDOM_SEED)"
   ]
  },
  {
   "cell_type": "code",
   "execution_count": 3,
   "metadata": {},
   "outputs": [],
   "source": [
    "NUM_ITEMS = 10000\n",
    "DIMENSIONS = 5\n",
    "MAX_STEPS = 20_000\n",
    "\n",
    "WEIGHTS = np.random.randint(1, 50 + 1, size=(NUM_ITEMS, DIMENSIONS))\n",
    "MAX_WEIGHTS = np.full(DIMENSIONS, NUM_ITEMS * 20)\n",
    "VALUES = np.random.randint(1, 100 + 1, size=NUM_ITEMS)"
   ]
  },
  {
   "cell_type": "code",
   "execution_count": 4,
   "metadata": {
    "collapsed": false,
    "pycharm": {
     "name": "#%%\n"
    }
   },
   "outputs": [],
   "source": [
    "def evaluate(knapsack):\n",
    "    if all(np.sum(WEIGHTS[knapsack], axis=0) < MAX_WEIGHTS):\n",
    "        return np.sum(VALUES[knapsack])\n",
    "    else:\n",
    "        return -1"
   ]
  },
  {
   "cell_type": "code",
   "execution_count": null,
   "metadata": {},
   "outputs": [],
   "source": [
    "WEIGHTS"
   ]
  },
  {
   "cell_type": "code",
   "execution_count": null,
   "metadata": {},
   "outputs": [],
   "source": [
    "VALUES"
   ]
  },
  {
   "cell_type": "code",
   "execution_count": null,
   "metadata": {},
   "outputs": [],
   "source": [
    "# solution = np.array([True, True, False, False, False])\n",
    "# evaluate(solution)"
   ]
  },
  {
   "cell_type": "code",
   "execution_count": null,
   "metadata": {},
   "outputs": [],
   "source": [
    "initial_solution = [bool(np.random.choice([True, False])) for _ in range(NUM_ITEMS)]\n",
    "ic(initial_solution)\n",
    "None"
   ]
  },
  {
   "cell_type": "markdown",
   "metadata": {},
   "source": [
    "## Random"
   ]
  },
  {
   "cell_type": "code",
   "execution_count": null,
   "metadata": {},
   "outputs": [],
   "source": [
    "tries = 0\n",
    "best_solution = initial_solution[:]\n",
    "while tries < MAX_STEPS:\n",
    "    tries += 1\n",
    "    solution = [choice([True, False]) for _ in range(NUM_ITEMS)]\n",
    "    if evaluate(solution) > evaluate(best_solution):\n",
    "        best_solution = solution[:]\n",
    "        print(f\"{tries:,}: {evaluate(best_solution)}\")"
   ]
  },
  {
   "cell_type": "markdown",
   "metadata": {},
   "source": [
    "## Local search (hill-climbing)"
   ]
  },
  {
   "cell_type": "code",
   "execution_count": null,
   "metadata": {},
   "outputs": [],
   "source": [
    "def tweak(sol):\n",
    "    new_sol = sol[:]\n",
    "    i = randint(0, NUM_ITEMS - 1)\n",
    "    new_sol[i] = not new_sol[i]\n",
    "    return new_sol\n",
    "\n",
    "\n",
    "tries = 0\n",
    "best_solution = initial_solution[:]\n",
    "while tries < MAX_STEPS:\n",
    "    tries += 1\n",
    "    solution = tweak(best_solution)\n",
    "    if evaluate(solution) > evaluate(best_solution):\n",
    "        best_solution = solution[:]\n",
    "        print(f\"{tries:,}: {evaluate(best_solution)}\")"
   ]
  },
  {
   "cell_type": "markdown",
   "metadata": {},
   "source": [
    "## Local search (hill-climbing)\n",
    "\n",
    "$n_m = \\frac{1}{1-p}$"
   ]
  },
  {
   "cell_type": "code",
   "execution_count": null,
   "metadata": {},
   "outputs": [],
   "source": [
    "# ## Local search (hill-climbing)\n",
    "# def tweak(sol, p):\n",
    "#     new_sol = sol[:]\n",
    "#     i = randint(0, NUM_ITEMS - 1)\n",
    "#     new_sol[i] = not new_sol[i]\n",
    "#     while random() < p:\n",
    "#         i = randint(0, NUM_ITEMS - 1)\n",
    "#         new_sol[i] = not new_sol[i]\n",
    "#     return new_sol\n",
    "\n",
    "\n",
    "# data = (list(), list(), list())\n",
    "# for mutation_strength in range(5):\n",
    "#     for _ in range(10):\n",
    "#         tries = 0\n",
    "#         best_solution = initial_solution[:]\n",
    "#         while tries < MAX_STEPS:\n",
    "#             tries += 1\n",
    "#             solution = tweak(best_solution, mutation_strength / 10)\n",
    "#             if evaluate(solution) > evaluate(best_solution):\n",
    "#                 best_solution = solution[:]\n",
    "#                 print(f\"{tries:,}: {evaluate(best_solution)}\")\n",
    "#     print(f\"Mutation strength: {mutation_strength/1000:g}; best solution found in {tries:,} tries\")\n",
    "#     data[0].append(mutation_strength)\n",
    "#     data[1].append(tries)\n",
    "#     data[2].append(evaluate(best_solution))\n",
    "# sns.scatterplot(x=data[0], y=data[2], marker='.')"
   ]
  },
  {
   "cell_type": "markdown",
   "metadata": {},
   "source": [
    "## Greedy"
   ]
  },
  {
   "cell_type": "code",
   "execution_count": 5,
   "metadata": {},
   "outputs": [
    {
     "name": "stdout",
     "output_type": "stream",
     "text": [
      "478367\n"
     ]
    }
   ],
   "source": [
    "Somma_pesi = np.sum(WEIGHTS, axis=1)\n",
    "\n",
    "Valore_unitario = VALUES / Somma_pesi\n",
    "\n",
    "sort_index = np.argsort(Valore_unitario)[::-1]\n",
    "\n",
    "solution = [False for _ in range(NUM_ITEMS)]\n",
    "\n",
    "kk = 0\n",
    "best_solution = [False for _ in range(NUM_ITEMS)]\n",
    "for _ in range(NUM_ITEMS):\n",
    "    solution[sort_index[kk]]=True\n",
    "    if evaluate(solution) > evaluate(best_solution):\n",
    "        best_solution = solution[:]\n",
    "    else:\n",
    "        solution[sort_index[kk]]=False\n",
    "    kk += 1\n",
    "\n",
    "print(f\"{evaluate(best_solution)}\")\n",
    "\n"
   ]
  }
 ],
 "metadata": {
  "kernelspec": {
   "display_name": "metott-ITyMfkJF-py3.11",
   "language": "python",
   "name": "python3"
  },
  "language_info": {
   "codemirror_mode": {
    "name": "ipython",
    "version": 3
   },
   "file_extension": ".py",
   "mimetype": "text/x-python",
   "name": "python",
   "nbconvert_exporter": "python",
   "pygments_lexer": "ipython3",
   "version": "3.11.6"
  },
  "orig_nbformat": 4
 },
 "nbformat": 4,
 "nbformat_minor": 2
}
