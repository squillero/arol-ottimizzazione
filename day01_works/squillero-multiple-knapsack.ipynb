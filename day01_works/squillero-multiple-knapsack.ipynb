{
 "cells": [
  {
   "cell_type": "markdown",
   "metadata": {},
   "source": [
    "> Copyright 2025 Giovanni Squillero <<giovanni.squillero@polito.it>>  \n",
    "> SPDX-License-Identifier: `0BSD`"
   ]
  },
  {
   "cell_type": "code",
   "execution_count": 1,
   "metadata": {},
   "outputs": [],
   "source": [
    "import random\n",
    "from itertools import accumulate\n",
    "from functools import cache\n",
    "\n",
    "import numpy as np\n",
    "from tqdm.notebook import tqdm\n",
    "from matplotlib import pyplot as plt"
   ]
  },
  {
   "cell_type": "code",
   "execution_count": 2,
   "metadata": {},
   "outputs": [],
   "source": [
    "def augmented(func):\n",
    "    class _Augmnented:\n",
    "        _log: list\n",
    "\n",
    "        def __init__(self):\n",
    "            self.clear()\n",
    "\n",
    "        @property\n",
    "        def log(self):\n",
    "            return self._log[:]\n",
    "\n",
    "        def clear(self):\n",
    "            self._log = list()\n",
    "\n",
    "        def plot(self, figsize=(14, 8)):\n",
    "            best = list(accumulate(self._log, max))\n",
    "            improvements = [(i, v) for i, v in list(enumerate(best)) if v > best[i - 1]]\n",
    "            plt.figure(figsize=figsize)\n",
    "            plt.scatter(range(len(self._log)), self._log, marker='.', color='lavender')\n",
    "            plt.plot(range(len(best)), best, color='lightcoral')\n",
    "            plt.scatter(\n",
    "                [i for i, v in improvements],\n",
    "                [v for i, v in improvements],\n",
    "                marker='*',\n",
    "                color='red',\n",
    "            )\n",
    "\n",
    "        @cache\n",
    "        def __call__(self, *args, **kwargs):\n",
    "            self._log.append(func(*args, **kwargs))\n",
    "            return self.log[-1]\n",
    "\n",
    "    return _Augmnented()"
   ]
  },
  {
   "cell_type": "markdown",
   "metadata": {},
   "source": [
    "# 0-1 Multiple Knapsack Problem\n",
    "\n",
    "see: [https://en.wikipedia.org/wiki/Knapsack_problem](https://en.wikipedia.org/wiki/Knapsack_problem)"
   ]
  },
  {
   "cell_type": "code",
   "execution_count": 3,
   "metadata": {},
   "outputs": [],
   "source": [
    "RANDOM_SEED = 42\n",
    "np.random.seed(RANDOM_SEED)"
   ]
  },
  {
   "cell_type": "code",
   "execution_count": 9,
   "metadata": {},
   "outputs": [],
   "source": [
    "NUM_ITEMS = 2000  # Esercizio con 100 items\n",
    "DIMENSIONS = 50  # Esercizio con 5 dimensioni\n",
    "MAX_STEPS = 200_000\n",
    "\n",
    "WEIGHTS = np.random.randint(1, 50 + 1, size=(NUM_ITEMS, DIMENSIONS))\n",
    "MAX_WEIGHTS = np.full(DIMENSIONS, NUM_ITEMS * 20)\n",
    "VALUES = np.random.randint(1, 100 + 1, size=NUM_ITEMS)"
   ]
  },
  {
   "cell_type": "code",
   "execution_count": 10,
   "metadata": {
    "collapsed": false,
    "pycharm": {
     "name": "#%%\n"
    }
   },
   "outputs": [],
   "source": [
    "def evaluate(knapsack):\n",
    "    if all(np.sum(WEIGHTS[knapsack], axis=0) < MAX_WEIGHTS):\n",
    "        return np.sum(VALUES[knapsack])\n",
    "    else:\n",
    "        return -1\n",
    "\n",
    "\n",
    "@augmented\n",
    "def fitness(knapsack):\n",
    "    return evaluate(list(knapsack))"
   ]
  },
  {
   "cell_type": "markdown",
   "metadata": {},
   "source": [
    "## Local search (hill-climbing) \n",
    "### Random strength tweak"
   ]
  },
  {
   "cell_type": "code",
   "execution_count": 11,
   "metadata": {},
   "outputs": [],
   "source": [
    "def tweak(solution, p):\n",
    "    solution = list(solution)\n",
    "    i = random.randint(0, len(solution) - 1)\n",
    "    solution[i] = not solution[i]\n",
    "    while random.random() < p:\n",
    "        i = random.randint(0, len(solution) - 1)\n",
    "        solution[i] = not solution[i]\n",
    "    return tuple(solution)"
   ]
  },
  {
   "cell_type": "code",
   "execution_count": null,
   "metadata": {},
   "outputs": [
    {
     "data": {
      "application/vnd.jupyter.widget-view+json": {
       "model_id": "f9c69bcb72194ac68e6b806a6ec6cf31",
       "version_major": 2,
       "version_minor": 0
      },
      "text/plain": [
       "  0%|          | 0/200000 [00:00<?, ?it/s]"
      ]
     },
     "metadata": {},
     "output_type": "display_data"
    },
    {
     "name": "stdout",
     "output_type": "stream",
     "text": [
      "Solution found in 199,999 tries: 75,371\n"
     ]
    },
    {
     "data": {
      "application/vnd.jupyter.widget-view+json": {
       "model_id": "02f016767dc34e7b9c07ccfbb67746c1",
       "version_major": 2,
       "version_minor": 0
      },
      "text/plain": [
       "  0%|          | 0/200000 [00:00<?, ?it/s]"
      ]
     },
     "metadata": {},
     "output_type": "display_data"
    },
    {
     "name": "stdout",
     "output_type": "stream",
     "text": [
      "Solution found in 199,999 tries: 87,361\n"
     ]
    },
    {
     "data": {
      "application/vnd.jupyter.widget-view+json": {
       "model_id": "37e64ac9f16a400995fa92e6c96f3c97",
       "version_major": 2,
       "version_minor": 0
      },
      "text/plain": [
       "  0%|          | 0/200000 [00:00<?, ?it/s]"
      ]
     },
     "metadata": {},
     "output_type": "display_data"
    },
    {
     "name": "stdout",
     "output_type": "stream",
     "text": [
      "Solution found in 199,999 tries: 90,285\n"
     ]
    },
    {
     "data": {
      "application/vnd.jupyter.widget-view+json": {
       "model_id": "c71ce2101d14464290d1ce8bb3193ef6",
       "version_major": 2,
       "version_minor": 0
      },
      "text/plain": [
       "  0%|          | 0/200000 [00:00<?, ?it/s]"
      ]
     },
     "metadata": {},
     "output_type": "display_data"
    },
    {
     "name": "stdout",
     "output_type": "stream",
     "text": [
      "Solution found in 199,999 tries: 92,424\n"
     ]
    },
    {
     "data": {
      "application/vnd.jupyter.widget-view+json": {
       "model_id": "571cc1a8c74a461986b2f12a261a3e9a",
       "version_major": 2,
       "version_minor": 0
      },
      "text/plain": [
       "  0%|          | 0/200000 [00:00<?, ?it/s]"
      ]
     },
     "metadata": {},
     "output_type": "display_data"
    }
   ],
   "source": [
    "tries = 0\n",
    "fitness.clear()\n",
    "\n",
    "for mutation_strength in [0, .1, .2, .4, .8]:\n",
    "    best_solution = tuple(random.choice([True, False]) for _ in range(NUM_ITEMS))\n",
    "    for tries in tqdm(range(MAX_STEPS)):\n",
    "        solution = tweak(best_solution, mutation_strength)\n",
    "        if fitness(solution) > fitness(best_solution):\n",
    "            best_solution = solution[:]\n",
    "\n",
    "    print(f\"Solution found in {tries:,} tries: {evaluate(list(best_solution)):,}\")\n",
    "    #fitness.plot()"
   ]
  },
  {
   "cell_type": "code",
   "execution_count": null,
   "metadata": {},
   "outputs": [],
   "source": []
  }
 ],
 "metadata": {
  "kernelspec": {
   "display_name": "arol-opt-wHz6T-Dn-py3.12",
   "language": "python",
   "name": "python3"
  },
  "language_info": {
   "codemirror_mode": {
    "name": "ipython",
    "version": 3
   },
   "file_extension": ".py",
   "mimetype": "text/x-python",
   "name": "python",
   "nbconvert_exporter": "python",
   "pygments_lexer": "ipython3",
   "version": "3.12.9"
  },
  "orig_nbformat": 4
 },
 "nbformat": 4,
 "nbformat_minor": 2
}
