{
 "cells": [
  {
   "cell_type": "markdown",
   "metadata": {},
   "source": [
    "> Copyright 2025 Giovanni Squillero <<giovanni.squillero@polito.it>>  \n",
    "> SPDX-License-Identifier: `0BSD`"
   ]
  },
  {
   "cell_type": "code",
   "execution_count": 1,
   "metadata": {},
   "outputs": [],
   "source": [
    "from itertools import accumulate\n",
    "from icecream import ic\n",
    "import numpy as np\n",
    "from tqdm.auto import tqdm\n",
    "from matplotlib import pyplot as plt"
   ]
  },
  {
   "cell_type": "markdown",
   "metadata": {},
   "source": [
    "# 0-1 Multiple Knapsack Problem\n",
    "\n",
    "see: [https://en.wikipedia.org/wiki/Knapsack_problem](https://en.wikipedia.org/wiki/Knapsack_problem)"
   ]
  },
  {
   "cell_type": "code",
   "execution_count": 2,
   "metadata": {},
   "outputs": [],
   "source": [
    "RANDOM_SEED = 42\n",
    "np.random.seed(RANDOM_SEED)"
   ]
  },
  {
   "cell_type": "code",
   "execution_count": 4,
   "metadata": {},
   "outputs": [],
   "source": [
    "NUM_ITEMS = 100   # Esercizio con 100 items\n",
    "DIMENSIONS = 5   # Esercizio con 5 dimensioni\n",
    "MAX_STEPS = 20_000\n",
    "\n",
    "WEIGHTS = np.random.randint(1, 50 + 1, size=(NUM_ITEMS, DIMENSIONS))\n",
    "MAX_WEIGHTS = np.full(DIMENSIONS, NUM_ITEMS * 20)\n",
    "VALUES = np.random.randint(1, 100 + 1, size=NUM_ITEMS)"
   ]
  },
  {
   "cell_type": "code",
   "execution_count": 5,
   "metadata": {
    "collapsed": false,
    "pycharm": {
     "name": "#%%\n"
    }
   },
   "outputs": [],
   "source": [
    "def evaluate(knapsack):\n",
    "    if all(np.sum(WEIGHTS[knapsack], axis=0) < MAX_WEIGHTS):\n",
    "        return np.sum(VALUES[knapsack])\n",
    "    else:\n",
    "        return -1"
   ]
  },
  {
   "cell_type": "code",
   "execution_count": 5,
   "metadata": {},
   "outputs": [
    {
     "data": {
      "text/plain": [
       "array([[39, 29, 15, 43,  8],\n",
       "       [21, 39, 19, 23, 11],\n",
       "       [11, 24, 36, 40, 24],\n",
       "       [ 3, 22,  2, 24, 44],\n",
       "       [30, 38,  2, 21, 33],\n",
       "       [12, 22, 44, 25, 49],\n",
       "       [27, 42, 28, 16, 15],\n",
       "       [47, 44,  3, 37,  7],\n",
       "       [21,  9, 39, 18,  4],\n",
       "       [25, 14, 50,  9, 26],\n",
       "       [ 2, 20, 28, 47,  7],\n",
       "       [44,  8, 47, 35, 14],\n",
       "       [17, 36, 50, 40,  4],\n",
       "       [ 2,  6, 42,  4, 29],\n",
       "       [18, 26, 44, 34, 10],\n",
       "       [36, 14, 31, 48, 15],\n",
       "       [ 8, 14, 23, 40, 21],\n",
       "       [16, 45, 18, 47, 24],\n",
       "       [26, 25, 45, 41, 29],\n",
       "       [15, 45,  1, 25,  7],\n",
       "       [ 9, 24,  1, 44,  8],\n",
       "       [24, 11, 17,  8, 35],\n",
       "       [35, 33,  5, 42, 39],\n",
       "       [41, 28,  7,  9,  8],\n",
       "       [12, 34, 33, 48, 23],\n",
       "       [24, 37, 35, 44, 40],\n",
       "       [22, 27, 35,  1, 35],\n",
       "       [37, 47, 14,  3,  1],\n",
       "       [ 5, 26, 14, 39, 27],\n",
       "       [ 9, 15, 15, 26, 42],\n",
       "       [13, 32, 39, 49, 32],\n",
       "       [ 4, 30, 37, 23, 39],\n",
       "       [45, 15, 43, 29, 36],\n",
       "       [13, 32,  7, 22, 28],\n",
       "       [ 2, 42, 45,  6, 28],\n",
       "       [28, 44, 44, 20, 30],\n",
       "       [11, 28, 25, 39, 33],\n",
       "       [ 1, 27, 13, 41,  3],\n",
       "       [39,  6,  8, 27,  9],\n",
       "       [37, 33, 42, 44, 24],\n",
       "       [15, 32, 32, 24, 41],\n",
       "       [49, 49, 12, 39,  2],\n",
       "       [ 3, 49, 37, 49, 17],\n",
       "       [49,  2,  2, 28, 23],\n",
       "       [37, 32, 33,  1, 19],\n",
       "       [ 2, 44, 26, 32,  6],\n",
       "       [32,  4, 11, 17, 38],\n",
       "       [24,  5, 34,  6, 22],\n",
       "       [11, 48, 16, 33,  9],\n",
       "       [ 6, 16, 29,  3, 20],\n",
       "       [36, 19, 26,  3, 19],\n",
       "       [20, 32,  7, 41, 33],\n",
       "       [40, 39, 18, 40,  1],\n",
       "       [11, 28, 25, 50, 23],\n",
       "       [31, 30, 42, 35,  7],\n",
       "       [16, 26, 48, 49,  2],\n",
       "       [ 1, 48, 12,  5, 37],\n",
       "       [32,  9, 41, 35, 19],\n",
       "       [48, 16,  3, 20, 24],\n",
       "       [33, 24, 11, 49,  8],\n",
       "       [36, 38, 40, 20, 35],\n",
       "       [48, 25, 35, 25, 29],\n",
       "       [18, 46, 18,  2, 35],\n",
       "       [16, 41, 36, 33,  4],\n",
       "       [33, 14, 21, 48, 20],\n",
       "       [ 8,  7,  3, 17, 33],\n",
       "       [48, 12, 22, 22, 46],\n",
       "       [30, 38, 38, 45,  8],\n",
       "       [27, 27, 34, 21, 30],\n",
       "       [33, 28, 47, 33,  5],\n",
       "       [48, 19,  4, 35, 49],\n",
       "       [17, 44, 28, 30, 29],\n",
       "       [46,  6, 35, 41, 37],\n",
       "       [24, 29, 49, 46, 31],\n",
       "       [35, 33, 21, 32, 23],\n",
       "       [33,  3, 18, 25, 42],\n",
       "       [31,  3, 40, 46, 24],\n",
       "       [50, 32, 47, 22, 23],\n",
       "       [ 2, 27, 42,  2, 26],\n",
       "       [17, 40, 33,  9, 43],\n",
       "       [48, 39, 29, 42, 26],\n",
       "       [35, 50, 25, 24, 13],\n",
       "       [ 7, 36, 45, 20,  1],\n",
       "       [ 8, 46, 16, 14, 12],\n",
       "       [23, 15, 28, 34,  2],\n",
       "       [32, 23, 22, 25, 22],\n",
       "       [22, 49, 42,  6, 15],\n",
       "       [43, 37, 33,  8, 44],\n",
       "       [44,  5, 39,  4,  6],\n",
       "       [45, 32, 30, 47, 35],\n",
       "       [40, 16, 13, 50, 42],\n",
       "       [30, 19, 17, 19, 28],\n",
       "       [26, 37, 26, 23,  9],\n",
       "       [12,  1,  1, 47, 34],\n",
       "       [32, 48, 25, 40, 45],\n",
       "       [ 1, 16, 39,  5, 22],\n",
       "       [29,  3, 12, 26, 16],\n",
       "       [37, 22, 29, 14, 28],\n",
       "       [ 5, 47, 49, 30, 46],\n",
       "       [ 5, 12, 16, 26, 26]], dtype=int32)"
      ]
     },
     "execution_count": 5,
     "metadata": {},
     "output_type": "execute_result"
    }
   ],
   "source": [
    "WEIGHTS"
   ]
  },
  {
   "cell_type": "code",
   "execution_count": 15,
   "metadata": {},
   "outputs": [
    {
     "data": {
      "text/plain": [
       "array([ 45,  17,  85,  66,   6,  18,  94,  22,  33,  30,  81,  32,  42,\n",
       "        78,  10,  36,  34,  73,  28,  11,  78,  39,  47,  19,  15,  28,\n",
       "        24,  72,   9,  47,  33,  62,  97,  19,  67,  74,  40,  47,  65,\n",
       "        29,  50,  98,  13,   1,  34,  93,  48,  77,  48,  49,  64,  61,\n",
       "        29,  39,  88,  26,  17,  71,  13,  69,  26,  49,  67,   7,  58,\n",
       "        49,  53,  65,  62,  17,  43,  25,   3,  79,  29,  32,  26,  16,\n",
       "        25,  54,  28,  73,  56,  65,  93,  86,  80,  41,  51,  71,  78,\n",
       "        29,  83,  19,  66,  41,  45,  15,   3,  11,  53,  46,  30,  57,\n",
       "        18,  51,  48,  66,  96,   8,  22,   6,  76,  57,  36,  79,  92,\n",
       "        57,  49,  45,  82,  66,  77,  45,  79,  20,  64,  93,  93,  67,\n",
       "        83,   3,  54,  78,  64,  40,  59,  55,  62,   4,  60,  75,  95,\n",
       "        96,  91,  30,   2,  62,  49,   9,  92,  31,  98,  61,  79,  48,\n",
       "        25,  36,   8,  73,  58,  45,  62,  39,  96,  58,  81,  99,  83,\n",
       "        64,  44,  29,  59,  71,  92,   9,  92,   6,  29,  58,  17,  16,\n",
       "        87,  95,   3,  21,  64,  90,  36,  86,  62,  42,  76,  42,  61,\n",
       "        13,  11,  54,  16,   8,  59,  57,  40,  59,   2,  94,  94,  76,\n",
       "        10,  44,  11,  79,  80,  81,  90,   2,  50,  12,  90,  23,  18,\n",
       "        62,  96,  62,  38,  67,  38,  67,  94,  61,   1,  94,  45,  96,\n",
       "        28,  21,  13,  27, 100,   7,  22,  74,  53,  79,  79,   4,  96,\n",
       "        23,  70,  88,  84,  84,  76,  33,  28,   8,   1,  37,  63,  22,\n",
       "        70,  21,  96,  35,  79,   5,  60,  46,  50,  48,   6,  89,  56,\n",
       "        59,  29,  71,  77,  18,   2,   8,  75,  97,  54,  38,  48,  27,\n",
       "        20,  12,  43,  61,  31,  91,  96,  61,  74,  67,  91,  35,  95,\n",
       "        15,  16,  13,  35,  75,  59,  21,  54,  75,  30,  48,  35,  86,\n",
       "        38,  31,  78,  24,  49,  96, 100,  32,  55,  79,  58,  99,   3,\n",
       "        80,  69,  85,  10,  83,  25,  68,  61,  29,  19,  43,  66,  74,\n",
       "        61,  43,  25,  20,  48,  83,  87,  24,  11,  98,  55,  28,  69,\n",
       "        63,  59,   5,  51,  21,  12,  50,   4,  42,  84,  38,  25,  14,\n",
       "        75,  32,  11,  61,  18,  27,  55,  54,  82,  87,  75,  21,  44,\n",
       "         5,  87,  41,  59,  89,  54,  74,  22,  83,  65,  64,  71,   4,\n",
       "        65,  15,  76,  22,  86,  47,  81,  93,  46,  14,  50,  20,  50,\n",
       "        33,  59,  43,  79,  12,  40,  20,  94,  38,   3,  28,  56,  90,\n",
       "        94,  13,  77,  66,  37,  49,  66,  36,  54,  26,  75,  72,  40,\n",
       "        43,  22,  20,   8,  29,  40,  90,  30,  81,  84,  55,  16,  46,\n",
       "        62,   7,  80,  45,  59,  56,  48,  27,  53,  87,  88,  73,  35,\n",
       "        51,  84,  37,  81,  95,  57,   8,  79,  95,  94,  20,  53,  12,\n",
       "        49,  17,  64,  42,  94,  29,  19,  11,  98,  50,  71,  58,  34,\n",
       "        20,  50,  88,  10,  32,  52,  15,  84,   3,  37,  40,  72,  40,\n",
       "        56,  23,  11,  64,   8,  93,  94,  56,  60,  10,  39,  28,  49,\n",
       "        36,  13,  96,  36,  26,  86,   4,  95,  82,  64,  38,  88,  87,\n",
       "        22,   2,  31,  11,  92,  46,  96,  62,  69,  64,  10,  40,  24,\n",
       "        99,  44,  60,  62,  87,  17,  65,  95,  95,  57,  55,  53,  56,\n",
       "        98,   9,  22,  13,  89,  48,  18,  76,  40,  17,  15,  15,  79,\n",
       "        63,  39,  13,  81,  32,   9,  40,  20,  90,  91,  85,  82,  77,\n",
       "        80,  73,  63,  76,  44,  38,  83,  60,  71,  99,  48,  18,  16,\n",
       "        55,  39,  68,  59,  89,  96,  62,  13,  81,   6,  83,  77,  60,\n",
       "        90,  14,  95,  54,   4,  39,  72,  25,  77,  32,  59,  63,  38,\n",
       "        92,  53,  94,  67,  28,   3,  98,  80,  22,  96,  38,  72,  72,\n",
       "        62,  57,   6,  78,  32,  99,  10,   3,  59,  76,  49,  59,  31,\n",
       "        93,  69,  62,  52,  89,  41,  31,  85,  84,  22,   4,  13,  45,\n",
       "        42,  49,  20,  77,  81,  54,  36,  97,   1,  15,  77,  17,  24,\n",
       "        58,  72,  91,  23,  46,  72,   8,  59,  90,  59,  13,  39,  28,\n",
       "        89,  61,  16,   2,  82,  17,  30,  13,  96,  93,  94,  82,  13,\n",
       "        43,  85,  94,  21,  55,  81,  40,  83,  15,  73,  52,  74,  95,\n",
       "        53,  87,  52,  30,  33,  57,  52,   9,  54,   1,  44,  99,  75,\n",
       "        98,  80,   9,  32,  15,  12,  97,  78,  57,   8,  72,  27,  62,\n",
       "        12,  65,  42,  62,  11,  43,  95,  17,  97,  32,  93,  85,  85,\n",
       "        40,  23,  56,   6,  86,  50,  37,  64,  54,  72,  49,  99,  11,\n",
       "        88,  49,  21,  66,  63,  83,  28,  17,   6,  19,  56,  28,  66,\n",
       "        38,  37,  68,  86,  90,  49,  43,  36,  58,  13,  52,  58,  32,\n",
       "        81, 100,  60,  83,  58,  99,  56,  28,   1,  42,  82,  48,  40,\n",
       "        97,  63,  76,  72,  88,  80,   4,  38,  27,   9,  16,  56,  76,\n",
       "        31,  88,  14,  25,  34,  67,  24,  73,  26,  20,  64,  10,  83,\n",
       "        67,  24,   5,  67,  58,  27,  80,  15,  35,  76,  53,  44,  26,\n",
       "        47,  34,  87,  95,  50,  84,  12,  87,   4,  87,  48,  55,   1,\n",
       "        89,  66,  30,   3,  21,  89,  84,  49,  86,  85,  62,  97,  38,\n",
       "        15,  52,  79,  46,  25,  21,  88,   5,  70,  47,  87,  68,  91,\n",
       "        18,  21,  92,  99,  86,  23,  64,  67,  40,  10,  89,  52,  72,\n",
       "        75,  61,  64,   5,  53,  55,  37,  56,  59,  93,  69,  73,  59,\n",
       "         2,  65,  60,  51,  30,  11,  92,  76,  39,  90,  77,  72,  63,\n",
       "        64,  61,  54,  92,  94,  73,  95,  58,  85,  56,  34,  31,  52,\n",
       "        89,  76,   1,  55,  22,  40,   1,  65,  63,  54,  42,  21,  79,\n",
       "        81,  22,  38,  99,  80,   8,  62,  47,  17,  17,  90,  13,  17,\n",
       "        38,  81,  78,  45,   6,  35,  14,  72,  61,  15,  54,  27,  13,\n",
       "        31,  35,  60,   6,  69,  86,  58,  49,  23,  89,  34,  26,  47,\n",
       "         5,  90,  20,   6,  70,  59,  64,  18,   4,  17,  14,  78,  13,\n",
       "         7,  44,  15,  19,  63,  35,  81,  35,  19,  20, 100,  35],\n",
       "      dtype=int32)"
      ]
     },
     "execution_count": 15,
     "metadata": {},
     "output_type": "execute_result"
    }
   ],
   "source": [
    "VALUES"
   ]
  },
  {
   "cell_type": "code",
   "execution_count": 6,
   "metadata": {},
   "outputs": [],
   "source": [
    "initial_solution = [bool(np.random.choice([True,False])) for _ in range(NUM_ITEMS)]"
   ]
  },
  {
   "cell_type": "markdown",
   "metadata": {},
   "source": [
    "# RANDOM"
   ]
  },
  {
   "cell_type": "code",
   "execution_count": 8,
   "metadata": {},
   "outputs": [
    {
     "name": "stderr",
     "output_type": "stream",
     "text": [
      "ic| f\"{tries:,}\": '2', evaluate(best_solution): np.int64(2908)\n",
      "ic| f\"{tries:,}\": '8', evaluate(best_solution): np.int64(2922)\n",
      "ic| f\"{tries:,}\": '26', evaluate(best_solution): np.int64(3010)\n",
      "ic| f\"{tries:,}\": '38', evaluate(best_solution): np.int64(3125)\n",
      "ic| f\"{tries:,}\": '98', evaluate(best_solution): np.int64(3141)\n",
      "ic| f\"{tries:,}\": '145', evaluate(best_solution): np.int64(3212)\n",
      "ic| f\"{tries:,}\": '292', evaluate(best_solution): np.int64(3236)\n",
      "ic| f\"{tries:,}\": '582', evaluate(best_solution): np.int64(3307)\n",
      "ic| f\"{tries:,}\": '627', evaluate(best_solution): np.int64(3453)\n",
      "ic| f\"{tries:,}\": '2,056', evaluate(best_solution): np.int64(3678)\n"
     ]
    },
    {
     "name": "stdout",
     "output_type": "stream",
     "text": [
      "Solution found in 20000 tries\n"
     ]
    }
   ],
   "source": [
    "tries = 0\n",
    "best_solution = initial_solution[:]\n",
    "while tries < MAX_STEPS:\n",
    "    tries += 1\n",
    "    solution = [bool(np.random.choice([True,False])) for _ in range(NUM_ITEMS)]\n",
    "    if evaluate(solution) > evaluate(best_solution):\n",
    "        best_solution = solution[:]\n",
    "        ic(f\"{tries:,}\",evaluate(best_solution))\n",
    "print (f\"Solution found in {tries} tries\")"
   ]
  },
  {
   "cell_type": "markdown",
   "metadata": {},
   "source": [
    "## Local search (hill-climbing) Random tweak"
   ]
  },
  {
   "cell_type": "code",
   "execution_count": 9,
   "metadata": {},
   "outputs": [
    {
     "name": "stderr",
     "output_type": "stream",
     "text": [
      "ic| f\"{tries:,}\": '1', evaluate(best_solution): np.int64(2953)\n",
      "ic| f\"{tries:,}\": '2', evaluate(best_solution): np.int64(2976)\n",
      "ic| f\"{tries:,}\": '4', evaluate(best_solution): np.int64(3067)\n",
      "ic| f\"{tries:,}\": '6', evaluate(best_solution): np.int64(3101)\n",
      "ic| f\"{tries:,}\": '7', evaluate(best_solution): np.int64(3200)\n",
      "ic| f\"{tries:,}\": '12', evaluate(best_solution): np.int64(3212)\n",
      "ic| f\"{tries:,}\": '13', evaluate(best_solution): np.int64(3274)\n",
      "ic| f\"{tries:,}\": '14', evaluate(best_solution): np.int64(3282)\n",
      "ic| f\"{tries:,}\": '15', evaluate(best_solution): np.int64(3295)\n",
      "ic| f\"{tries:,}\": '16', evaluate(best_solution): np.int64(3334)\n",
      "ic| f\"{tries:,}\": '25', evaluate(best_solution): np.int64(3407)\n",
      "ic| f\"{tries:,}\": '27', evaluate(best_solution): np.int64(3408)\n",
      "ic| f\"{tries:,}\": '28', evaluate(best_solution): np.int64(3442)\n",
      "ic| f\"{tries:,}\": '38', evaluate(best_solution): np.int64(3466)\n",
      "ic| f\"{tries:,}\": '85', evaluate(best_solution): np.int64(3468)\n"
     ]
    },
    {
     "name": "stdout",
     "output_type": "stream",
     "text": [
      "Solution found in 20,000 tries\n"
     ]
    }
   ],
   "source": [
    "def tweak(sol):\n",
    "    new_sol = sol[:]\n",
    "    i = np.random.randint(0, NUM_ITEMS)\n",
    "    new_sol[i] = not new_sol[i]\n",
    "    return new_sol\n",
    "tries = 0\n",
    "best_solution = initial_solution[:]\n",
    "while tries < MAX_STEPS:\n",
    "    tries += 1\n",
    "    solution = tweak(best_solution)\n",
    "    if evaluate(solution) > evaluate(best_solution):\n",
    "        best_solution = solution[:]\n",
    "        ic(f\"{tries:,}\",evaluate(best_solution))\n",
    "print (f\"Solution found in {tries:,} tries\")"
   ]
  },
  {
   "cell_type": "markdown",
   "metadata": {},
   "source": [
    "## Local search (hill-climbing) Random tweak"
   ]
  },
  {
   "cell_type": "code",
   "execution_count": 11,
   "metadata": {},
   "outputs": [
    {
     "name": "stdout",
     "output_type": "stream",
     "text": [
      "Solution found in 20,000 tries 4463\n"
     ]
    }
   ],
   "source": [
    "def tweak(sol):\n",
    "    new_sol = sol[:]\n",
    "    # Pick a random item \n",
    "    j = np.random.randint(0, NUM_ITEMS)\n",
    "    if new_sol[j]:\n",
    "        new_sol[j] = False\n",
    "    j = np.random.randint(0, NUM_ITEMS)\n",
    "    for i in range(j, NUM_ITEMS):\n",
    "        if not new_sol[j]:\n",
    "            new_sol[j] = True\n",
    "            if evaluate(new_sol) > evaluate(sol):\n",
    "                break\n",
    "            new_sol[j] = False\n",
    "    return new_sol\n",
    "\n",
    "tries = 0\n",
    "best_solution = initial_solution[:]\n",
    "while tries < MAX_STEPS:\n",
    "    tries += 1\n",
    "    solution = tweak(best_solution)\n",
    "    if evaluate(solution) > evaluate(best_solution):\n",
    "        best_solution = solution[:]\n",
    "        #ic(f\"{tries:,}\",evaluate(best_solution))\n",
    "print (f\"Solution found in {tries:,} tries\",evaluate(best_solution))"
   ]
  }
 ],
 "metadata": {
  "kernelspec": {
   "display_name": ".venv",
   "language": "python",
   "name": "python3"
  },
  "language_info": {
   "codemirror_mode": {
    "name": "ipython",
    "version": 3
   },
   "file_extension": ".py",
   "mimetype": "text/x-python",
   "name": "python",
   "nbconvert_exporter": "python",
   "pygments_lexer": "ipython3",
   "version": "3.13.1"
  },
  "orig_nbformat": 4
 },
 "nbformat": 4,
 "nbformat_minor": 2
}
