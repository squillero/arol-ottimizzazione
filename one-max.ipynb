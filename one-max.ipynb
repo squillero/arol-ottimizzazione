{
 "cells": [
  {
   "cell_type": "markdown",
   "metadata": {
    "vscode": {
     "languageId": "plaintext"
    }
   },
   "source": [
    "> Copyright 2025 Giovanni Squillero <<giovanni.squillero@polito.it>>  \n",
    "> SPDX-License-Identifier: `0BSD`"
   ]
  },
  {
   "cell_type": "code",
   "execution_count": 42,
   "metadata": {},
   "outputs": [],
   "source": [
    "from random import choice, randint\n",
    "from matplotlib import pyplot as plt\n",
    "from icecream import ic"
   ]
  },
  {
   "cell_type": "code",
   "execution_count": 45,
   "metadata": {},
   "outputs": [],
   "source": [
    "# Soluzione: array di PROBLEM_SIZE elementi\n",
    "# Goal: array di tutti True\n",
    "\n",
    "PROBLEM_SIZE = 64\n",
    "\n",
    "\n",
    "def fitness(solution):\n",
    "    return sum(solution)"
   ]
  },
  {
   "cell_type": "code",
   "execution_count": 46,
   "metadata": {},
   "outputs": [],
   "source": [
    "initial_solution = [choice([True, False]) for _ in range(PROBLEM_SIZE)]"
   ]
  },
  {
   "cell_type": "markdown",
   "metadata": {},
   "source": [
    "## Random"
   ]
  },
  {
   "cell_type": "code",
   "execution_count": 47,
   "metadata": {},
   "outputs": [
    {
     "name": "stdout",
     "output_type": "stream",
     "text": [
      "2: 37\n",
      "7: 39\n",
      "66: 40\n",
      "69: 41\n",
      "174: 42\n",
      "314: 45\n",
      "3,204: 46\n",
      "21,901: 47\n",
      "39,666: 48\n",
      "163,889: 49\n",
      "441,377: 51\n"
     ]
    },
    {
     "ename": "KeyboardInterrupt",
     "evalue": "",
     "output_type": "error",
     "traceback": [
      "\u001b[31m---------------------------------------------------------------------------\u001b[39m",
      "\u001b[31mKeyboardInterrupt\u001b[39m                         Traceback (most recent call last)",
      "\u001b[36mCell\u001b[39m\u001b[36m \u001b[39m\u001b[32mIn[47]\u001b[39m\u001b[32m, line 5\u001b[39m\n\u001b[32m      3\u001b[39m \u001b[38;5;28;01mwhile\u001b[39;00m fitness(best_solution) < PROBLEM_SIZE:\n\u001b[32m      4\u001b[39m     tries += \u001b[32m1\u001b[39m\n\u001b[32m----> \u001b[39m\u001b[32m5\u001b[39m     solution = [choice([\u001b[38;5;28;01mTrue\u001b[39;00m, \u001b[38;5;28;01mFalse\u001b[39;00m]) \u001b[38;5;28;01mfor\u001b[39;00m _ \u001b[38;5;129;01min\u001b[39;00m \u001b[38;5;28mrange\u001b[39m(PROBLEM_SIZE)]\n\u001b[32m      6\u001b[39m     \u001b[38;5;28;01mif\u001b[39;00m fitness(solution) > fitness(best_solution):\n\u001b[32m      7\u001b[39m         best_solution = solution[:]\n",
      "\u001b[31mKeyboardInterrupt\u001b[39m: "
     ]
    }
   ],
   "source": [
    "tries = 0\n",
    "best_solution = initial_solution[:]\n",
    "while fitness(best_solution) < PROBLEM_SIZE:\n",
    "    tries += 1\n",
    "    solution = [choice([True, False]) for _ in range(PROBLEM_SIZE)]\n",
    "    if fitness(solution) > fitness(best_solution):\n",
    "        best_solution = solution[:]\n",
    "        print(f\"{tries:,}: {fitness(best_solution)}\")"
   ]
  },
  {
   "cell_type": "markdown",
   "metadata": {},
   "source": [
    "## Local search (hill-climbing)"
   ]
  },
  {
   "cell_type": "code",
   "execution_count": 48,
   "metadata": {},
   "outputs": [
    {
     "name": "stdout",
     "output_type": "stream",
     "text": [
      "1: 30\n",
      "4: 31\n",
      "6: 32\n",
      "9: 33\n",
      "10: 34\n",
      "12: 35\n",
      "14: 36\n",
      "19: 37\n",
      "25: 38\n",
      "27: 39\n",
      "28: 40\n",
      "29: 41\n",
      "30: 42\n",
      "32: 43\n",
      "33: 44\n",
      "34: 45\n",
      "36: 46\n",
      "37: 47\n",
      "42: 48\n",
      "50: 49\n",
      "51: 50\n",
      "52: 51\n",
      "53: 52\n",
      "55: 53\n",
      "67: 54\n",
      "71: 55\n",
      "79: 56\n",
      "116: 57\n",
      "124: 58\n",
      "128: 59\n",
      "134: 60\n",
      "194: 61\n",
      "209: 62\n",
      "224: 63\n",
      "242: 64\n"
     ]
    }
   ],
   "source": [
    "def tweak(sol):\n",
    "    new_sol = sol[:]\n",
    "    i = randint(0, PROBLEM_SIZE - 1)\n",
    "    new_sol[i] = not new_sol[i]\n",
    "    return new_sol\n",
    "\n",
    "tries = 0\n",
    "best_solution = initial_solution[:]\n",
    "while fitness(best_solution) < PROBLEM_SIZE:\n",
    "    tries += 1\n",
    "    solution = tweak(best_solution)\n",
    "    if fitness(solution) > fitness(best_solution):\n",
    "        best_solution = solution[:]\n",
    "        print(f\"{tries:,}: {fitness(best_solution)}\")"
   ]
  },
  {
   "cell_type": "code",
   "execution_count": null,
   "metadata": {},
   "outputs": [],
   "source": []
  }
 ],
 "metadata": {
  "kernelspec": {
   "display_name": "arol-opt-cJmkrnby-py3.13",
   "language": "python",
   "name": "python3"
  },
  "language_info": {
   "codemirror_mode": {
    "name": "ipython",
    "version": 3
   },
   "file_extension": ".py",
   "mimetype": "text/x-python",
   "name": "python",
   "nbconvert_exporter": "python",
   "pygments_lexer": "ipython3",
   "version": "3.13.2"
  }
 },
 "nbformat": 4,
 "nbformat_minor": 2
}
