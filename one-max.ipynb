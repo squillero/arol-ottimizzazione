{
 "cells": [
  {
   "cell_type": "markdown",
   "metadata": {
    "vscode": {
     "languageId": "plaintext"
    }
   },
   "source": [
    "> Copyright 2025 Giovanni Squillero <<giovanni.squillero@polito.it>>  \n",
    "> SPDX-License-Identifier: `0BSD`"
   ]
  },
  {
   "cell_type": "code",
   "execution_count": 68,
   "metadata": {},
   "outputs": [],
   "source": [
    "from random import choice, randint, random\n",
    "import seaborn as sns\n",
    "from icecream import ic"
   ]
  },
  {
   "cell_type": "code",
   "execution_count": 64,
   "metadata": {},
   "outputs": [],
   "source": [
    "# Soluzione: array di PROBLEM_SIZE elementi\n",
    "# Goal: array di tutti True\n",
    "\n",
    "PROBLEM_SIZE = 256\n",
    "\n",
    "\n",
    "def fitness(solution):\n",
    "    return sum(solution)"
   ]
  },
  {
   "cell_type": "code",
   "execution_count": 65,
   "metadata": {},
   "outputs": [],
   "source": [
    "initial_solution = [choice([True, False]) for _ in range(PROBLEM_SIZE)]"
   ]
  },
  {
   "cell_type": "markdown",
   "metadata": {},
   "source": [
    "## Random"
   ]
  },
  {
   "cell_type": "code",
   "execution_count": null,
   "metadata": {},
   "outputs": [],
   "source": [
    "tries = 0\n",
    "best_solution = initial_solution[:]\n",
    "while fitness(best_solution) < PROBLEM_SIZE:\n",
    "    tries += 1\n",
    "    solution = [choice([True, False]) for _ in range(PROBLEM_SIZE)]\n",
    "    if fitness(solution) > fitness(best_solution):\n",
    "        best_solution = solution[:]\n",
    "        print(f\"{tries:,}: {fitness(best_solution)}\")"
   ]
  },
  {
   "cell_type": "markdown",
   "metadata": {},
   "source": [
    "## Local search (hill-climbing)"
   ]
  },
  {
   "cell_type": "code",
   "execution_count": null,
   "metadata": {},
   "outputs": [],
   "source": [
    "def tweak(sol):\n",
    "    new_sol = sol[:]\n",
    "    i = randint(0, PROBLEM_SIZE - 1)\n",
    "    new_sol[i] = not new_sol[i]\n",
    "    return new_sol\n",
    "\n",
    "\n",
    "tries = 0\n",
    "best_solution = initial_solution[:]\n",
    "while fitness(best_solution) < PROBLEM_SIZE:\n",
    "    tries += 1\n",
    "    solution = tweak(best_solution)\n",
    "    if fitness(solution) > fitness(best_solution):\n",
    "        best_solution = solution[:]\n",
    "        print(f\"{tries:,}: {fitness(best_solution)}\")"
   ]
  },
  {
   "cell_type": "markdown",
   "metadata": {},
   "source": [
    "## Local search (hill-climbing)\n",
    "\n",
    "$n_m = \\frac{1}{1-p}$"
   ]
  },
  {
   "cell_type": "code",
   "execution_count": 82,
   "metadata": {},
   "outputs": [
    {
     "data": {
      "text/plain": [
       "<Axes: >"
      ]
     },
     "execution_count": 82,
     "metadata": {},
     "output_type": "execute_result"
    },
    {
     "data": {
      "image/png": "[encoded data removed]",
      "text/plain": [
       "<Figure size 640x480 with 1 Axes>"
      ]
     },
     "metadata": {},
     "output_type": "display_data"
    }
   ],
   "source": [
    "## Local search (hill-climbing)\n",
    "def tweak(sol, p):\n",
    "    new_sol = sol[:]\n",
    "    i = randint(0, PROBLEM_SIZE - 1)\n",
    "    new_sol[i] = not new_sol[i]\n",
    "    while random() < p:\n",
    "        i = randint(0, PROBLEM_SIZE - 1)\n",
    "        new_sol[i] = not new_sol[i]\n",
    "    return new_sol\n",
    "\n",
    "\n",
    "data = (list(), list())\n",
    "for mutation_strength in range(500):\n",
    "    for _ in range(10):\n",
    "        tries = 0\n",
    "        best_solution = initial_solution[:]\n",
    "        while fitness(best_solution) < PROBLEM_SIZE:\n",
    "            tries += 1\n",
    "            solution = tweak(best_solution, mutation_strength / 1000)\n",
    "            if fitness(solution) > fitness(best_solution):\n",
    "                best_solution = solution[:]\n",
    "    # print(f\"Mutation strength: {mutation_strength/1000:g}; best solution found in {tries:,} tries\")\n",
    "    data[0].append(mutation_strength)\n",
    "    data[1].append(tries)\n",
    "sns.scatterplot(x=data[0], y=data[1], marker='.')"
   ]
  },
  {
   "cell_type": "code",
   "execution_count": null,
   "metadata": {},
   "outputs": [],
   "source": []
  }
 ],
 "metadata": {
  "kernelspec": {
   "display_name": "arol-opt-cJmkrnby-py3.13",
   "language": "python",
   "name": "python3"
  },
  "language_info": {
   "codemirror_mode": {
    "name": "ipython",
    "version": 3
   },
   "file_extension": ".py",
   "mimetype": "text/x-python",
   "name": "python",
   "nbconvert_exporter": "python",
   "pygments_lexer": "ipython3",
   "version": "3.13.2"
  }
 },
 "nbformat": 4,
 "nbformat_minor": 2
}
