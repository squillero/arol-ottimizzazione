{
 "cells": [
  {
   "cell_type": "markdown",
   "metadata": {
    "vscode": {
     "languageId": "plaintext"
    }
   },
   "source": [
    "> Copyright 2025 Giovanni Squillero <<giovanni.squillero@polito.it>>  \n",
    "> SPDX-License-Identifier: `0BSD`"
   ]
  },
  {
   "cell_type": "code",
   "execution_count": 16,
   "metadata": {},
   "outputs": [],
   "source": [
    "from random import choice\n",
    "from matplotlib import pyplot as plt\n",
    "from icecream import ic"
   ]
  },
  {
   "cell_type": "code",
   "execution_count": 27,
   "metadata": {},
   "outputs": [],
   "source": [
    "# Soluzione: array di PROBLEM_SIZE elementi\n",
    "# Goal: array di tutti True\n",
    "\n",
    "PROBLEM_SIZE = 32\n",
    "\n",
    "\n",
    "def fitness(solution):\n",
    "    return sum(solution)"
   ]
  },
  {
   "cell_type": "code",
   "execution_count": null,
   "metadata": {},
   "outputs": [
    {
     "name": "stdout",
     "output_type": "stream",
     "text": [
      "1: 19\n",
      "17: 21\n",
      "38: 22\n",
      "46: 26\n",
      "1,090: 28\n",
      "913,398: 29\n",
      "2,886,747: 30\n"
     ]
    }
   ],
   "source": [
    "tries = 0\n",
    "best_solution = [choice([True, False]) for _ in range(PROBLEM_SIZE)]\n",
    "while fitness(best_solution) < PROBLEM_SIZE:\n",
    "    tries += 1\n",
    "    solution = [choice([True, False]) for _ in range(PROBLEM_SIZE)]\n",
    "    if fitness(solution) > fitness(best_solution):\n",
    "        best_solution = solution[:]\n",
    "        print(f\"{tries:,}: {fitness(best_solution)}\")"
   ]
  },
  {
   "cell_type": "code",
   "execution_count": null,
   "metadata": {},
   "outputs": [],
   "source": []
  }
 ],
 "metadata": {
  "kernelspec": {
   "display_name": "arol-opt-cJmkrnby-py3.13",
   "language": "python",
   "name": "python3"
  },
  "language_info": {
   "codemirror_mode": {
    "name": "ipython",
    "version": 3
   },
   "file_extension": ".py",
   "mimetype": "text/x-python",
   "name": "python",
   "nbconvert_exporter": "python",
   "pygments_lexer": "ipython3",
   "version": "3.13.2"
  }
 },
 "nbformat": 4,
 "nbformat_minor": 2
}
